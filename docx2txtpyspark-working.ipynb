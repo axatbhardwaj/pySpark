{
 "cells": [
  {
   "cell_type": "code",
   "execution_count": null,
   "metadata": {},
   "outputs": [],
   "source": [
    "from pyspark.sql import SparkSession\n",
    "from docx import Document\n",
    "import io\n",
    "\n",
    "# Create Spark session\n",
    "spark = SparkSession.builder.appName(\"LargeDocxProcessing\").getOrCreate()\n",
    "\n",
    "# Define input and output paths\n",
    "input_path = \"/home/axat/personal/pySpark/data/file-sample_1MB_updated_inline.docx\"\n",
    "output_path = \"/home/axat/personal/pySpark/output/final/outputfinalgb222.txt\"\n",
    "\n",
    "# Read the DOCX file as RDD\n",
    "rdd = spark.sparkContext.binaryFiles(input_path)\n",
    "\n",
    "# Define processing function\n",
    "def process_docx(file_data):\n",
    "    # Get the file path and content\n",
    "    file_path, content = file_data\n",
    "    document = Document(io.BytesIO(content))\n",
    "\n",
    "    text = \"\"\n",
    "    for paragraph in document.paragraphs:\n",
    "        text += paragraph.text + \"\\n\"\n",
    "    return text\n",
    "\n",
    "# Apply processing function to each DOCX file\n",
    "processed_text_rdd = rdd.map(process_docx)\n",
    "\n",
    "combined_text = processed_text_rdd.collect()\n",
    "\n",
    "# Repartition to a single partition and save as a text file\n",
    "with open(output_path, 'w') as file:\n",
    "    file.write('\\n'.join(combined_text))\n",
    "\n",
    "\n",
    "# Stop the Spark session\n",
    "spark.stop()\n"
   ]
  }
 ],
 "metadata": {
  "language_info": {
   "name": "python"
  }
 },
 "nbformat": 4,
 "nbformat_minor": 2
}
