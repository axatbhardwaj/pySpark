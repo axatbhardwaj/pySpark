{
 "cells": [
  {
   "cell_type": "code",
   "execution_count": 1,
   "metadata": {},
   "outputs": [
    {
     "name": "stderr",
     "output_type": "stream",
     "text": [
      "23/12/11 11:53:59 WARN Utils: Your hostname, infrablok resolves to a loopback address: 127.0.1.1; using 192.168.1.184 instead (on interface enp1s0)\n",
      "23/12/11 11:53:59 WARN Utils: Set SPARK_LOCAL_IP if you need to bind to another address\n",
      "Setting default log level to \"WARN\".\n",
      "To adjust logging level use sc.setLogLevel(newLevel). For SparkR, use setLogLevel(newLevel).\n",
      "23/12/11 11:54:00 WARN NativeCodeLoader: Unable to load native-hadoop library for your platform... using builtin-java classes where applicable\n",
      "                                                                                \r"
     ]
    },
    {
     "name": "stdout",
     "output_type": "stream",
     "text": [
      "-------------countMap-------------------\n",
      "{'PassengerId': 418, 'Survived': 2, 'Pclass': 3, 'Name': 418, 'Sex': 2, 'Age': 80, 'SibSp': 7, 'Parch': 8, 'Ticket': 363, 'Fare': 170, 'Cabin': 77, 'Embarked': 3}\n",
      "-------------countMap-------------------\n",
      "---------------------------------------survived------------------------------\n",
      "Number of male survivors: 0\n",
      "Number of female survivors: 152\n",
      "---------------------------------------survived------------------------------\n"
     ]
    }
   ],
   "source": [
    "from pyspark.sql import SparkSession\n",
    "from pyspark.sql.functions import col\n",
    "from pyspark.sql.types import StructType, StructField, StringType, IntegerType\n",
    "# Create a Spark session\n",
    "spark = SparkSession.builder.appName(\"UniqueValues\").getOrCreate()\n",
    "\n",
    "# Set the log level to WARN (or ERROR for even less information) for seeing output\n",
    "spark.sparkContext.setLogLevel(\"ERROR\")\n",
    "\n",
    "# # Print the schema\n",
    "# schema = StructType([\n",
    "#     StructField(\"PassengerId\", IntegerType(), True),\n",
    "#     StructField(\"Survived\", IntegerType(), True),\n",
    "#     StructField(\"Pclass\", StringType(), True),\n",
    "#     StructField(\"Name\", StringType(), True),\n",
    "#     StructField(\"Sex\", StringType(), True),\n",
    "#     StructField(\"Age\", IntegerType(), True),\n",
    "#     StructField(\"SibSp\", IntegerType(), True),\n",
    "#     StructField(\"Parch\", IntegerType(), True),\n",
    "#     StructField(\"Ticket\", StringType(), True),\n",
    "#     StructField(\"Fare\", IntegerType(), True),\n",
    "# ])\n",
    "\n",
    "# Read data into a Pandas DataFrame\n",
    "spark_df = spark.read.csv(\"/home/axat/work/pySpark/tested.csv\" , header=True, inferSchema=True)\n",
    "\n",
    "# dictionary to store count of unique values\n",
    "countMap = {}\n",
    "# Iterate through each column and print unique values\n",
    "for column_name in spark_df.columns:\n",
    "    unique_value_count = spark_df.select(column_name).distinct().count()\n",
    "    countMap[column_name] = unique_value_count\n",
    "\n",
    "print(\"-------------countMap-------------------\")    \n",
    "print(countMap)\n",
    "print(\"-------------countMap-------------------\")\n",
    "\n",
    "#check if there were any survivours if there was any check if they were male or female and give a count of male and female survived\n",
    "# Check if there were any survivors\n",
    "survivors = spark_df.filter(col(\"Survived\") == 1)\n",
    "\n",
    "# Check if there were any male survivors\n",
    "male_survivors = survivors.filter(col(\"Sex\") == \"male\")\n",
    "male_survivor_count = male_survivors.count()\n",
    "\n",
    "# Check if there were any female survivors\n",
    "female_survivors = survivors.filter(col(\"Sex\") == \"female\")\n",
    "female_survivor_count = female_survivors.count()\n",
    "\n",
    "# Print the count of male and female survivors\n",
    "print(\"---------------------------------------survived------------------------------\")\n",
    "print(\"Number of male survivors:\", male_survivor_count)\n",
    "print(\"Number of female survivors:\", female_survivor_count)\n",
    "print(\"---------------------------------------survived------------------------------\")\n",
    "\n",
    "\n",
    "# Stop the Spark session\n",
    "spark.stop()\n",
    "\n"
   ]
  }
 ],
 "metadata": {
  "kernelspec": {
   "display_name": "myenv",
   "language": "python",
   "name": "python3"
  },
  "language_info": {
   "codemirror_mode": {
    "name": "ipython",
    "version": 3
   },
   "file_extension": ".py",
   "mimetype": "text/x-python",
   "name": "python",
   "nbconvert_exporter": "python",
   "pygments_lexer": "ipython3",
   "version": "3.11.5"
  }
 },
 "nbformat": 4,
 "nbformat_minor": 2
}
