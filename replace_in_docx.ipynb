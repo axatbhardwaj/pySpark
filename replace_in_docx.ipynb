{
 "cells": [
  {
   "cell_type": "code",
   "execution_count": 1,
   "metadata": {},
   "outputs": [
    {
     "name": "stdout",
     "output_type": "stream",
     "text": [
      "Collecting python-docx\n",
      "  Using cached python_docx-1.1.0-py3-none-any.whl.metadata (2.0 kB)\n",
      "Requirement already satisfied: lxml>=3.1.0 in /home/axat/.conda/envs/test/lib/python3.12/site-packages (from python-docx) (4.9.3)\n",
      "Requirement already satisfied: typing-extensions in /home/axat/.conda/envs/test/lib/python3.12/site-packages (from python-docx) (4.8.0)\n",
      "Using cached python_docx-1.1.0-py3-none-any.whl (239 kB)\n",
      "Installing collected packages: python-docx\n",
      "Successfully installed python-docx-1.1.0\n",
      "Note: you may need to restart the kernel to use updated packages.\n"
     ]
    }
   ],
   "source": [
    "pip install python-docx"
   ]
  },
  {
   "cell_type": "code",
   "execution_count": null,
   "metadata": {},
   "outputs": [],
   "source": [
    "from docx import Document\n",
    "from io import BytesIO\n",
    "\n",
    "def replace_text_in_docx(doc, target_text, replacement_text):\n",
    "    for paragraph in doc.paragraphs:\n",
    "        if target_text in paragraph.text:\n",
    "            paragraph.text = paragraph.text.replace(target_text, replacement_text)\n",
    "\n",
    "    for table in doc.tables:\n",
    "        for row in table.rows:\n",
    "            for cell in row.cells:\n",
    "                if target_text in cell.text:\n",
    "                    cell.text = cell.text.replace(target_text, replacement_text)\n",
    "\n",
    "# Replace 'your_document.docx' with the actual path to your DOCX file\n",
    "input_docx_file_path = '/home/axat/Downloads/Findal copy.docx'\n",
    "\n",
    "# Open the existing DOCX file\n",
    "with open(input_docx_file_path, 'rb') as file:\n",
    "    docx_stream = BytesIO(file.read())\n",
    "    doc = Document(docx_stream)\n",
    "\n",
    "# Specify the text to be replaced and the replacement text\n",
    "target_text = 'Lorem'\n",
    "replacement_text = 'sumit'\n",
    "\n",
    "# Use the function to replace the text in the original DOCX document\n",
    "replace_text_in_docx(doc, target_text, replacement_text)\n",
    "\n",
    "# Save the changes to the existing file\n",
    "doc.save(input_docx_file_path)\n",
    "\n",
    "\n"
   ]
  }
 ],
 "metadata": {
  "kernelspec": {
   "display_name": "test",
   "language": "python",
   "name": "python3"
  },
  "language_info": {
   "codemirror_mode": {
    "name": "ipython",
    "version": 3
   },
   "file_extension": ".py",
   "mimetype": "text/x-python",
   "name": "python",
   "nbconvert_exporter": "python",
   "pygments_lexer": "ipython3",
   "version": "3.12.0"
  }
 },
 "nbformat": 4,
 "nbformat_minor": 2
}
