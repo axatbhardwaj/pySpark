{
 "cells": [
  {
   "cell_type": "code",
   "execution_count": null,
   "metadata": {},
   "outputs": [],
   "source": [
    "pip install docx"
   ]
  },
  {
   "cell_type": "code",
   "execution_count": null,
   "metadata": {},
   "outputs": [],
   "source": [
    "from docx import Document\n",
    "from docx.table import Table\n",
    "from docx.text.paragraph import Paragraph\n",
    "\n",
    "\n",
    "def read_docx_objects(file_path, output_file_path):\n",
    "    with open(output_file_path, 'w', encoding='utf-8') as output_file:\n",
    "        doc = Document(file_path)\n",
    "\n",
    "        # Process headers only once\n",
    "        processed_headers = set()\n",
    "        for section in doc.sections:\n",
    "            for header in section.header.paragraphs:\n",
    "                if header.text not in processed_headers:\n",
    "                    output_file.write(f'Header: {header.text}\\n')\n",
    "                    processed_headers.add(header.text)\n",
    "\n",
    "        # Process the main content of the document\n",
    "        for element in iter_elements(doc):\n",
    "            if isinstance(element, Paragraph):\n",
    "                output_file.write(f'{element.text}\\n')  # Separate paragraphs with a new line\n",
    "            elif isinstance(element, Table):\n",
    "                for row in element.rows:\n",
    "                    row_text = ' '.join([cell.text.replace('\\n', ' ') for cell in row.cells])\n",
    "                    output_file.write(f'{row_text}\\n')  # Separate cells with a space\n",
    "\n",
    "        # Process footers only once\n",
    "        processed_footers = set()\n",
    "        for section in doc.sections:\n",
    "            for footer in section.footer.paragraphs:\n",
    "                if footer.text not in processed_footers:\n",
    "                    output_file.write(f'Footer: {footer.text}\\n')\n",
    "                    processed_footers.add(footer.text)\n",
    "\n",
    "\n",
    "\n",
    "def iter_elements(doc):\n",
    "    elements_list = []\n",
    "    for element in doc.iter_inner_content():\n",
    "        elements_list.append(element)\n",
    "\n",
    "    return elements_list\n",
    "\n",
    "\n",
    "# Specify the output file path\n",
    "output_file_path = ''\n",
    "input_file_path = ''\n",
    "\n",
    "# Use the function with your docx file\n",
    "read_docx_objects(input_file_path, output_file_path)\n"
   ]
  }
 ],
 "metadata": {
  "language_info": {
   "name": "python"
  }
 },
 "nbformat": 4,
 "nbformat_minor": 2
}
